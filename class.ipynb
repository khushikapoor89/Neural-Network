{
 "cells": [
  {
   "cell_type": "code",
   "execution_count": 2,
   "id": "1c8a3b3d",
   "metadata": {},
   "outputs": [
    {
     "name": "stdout",
     "output_type": "stream",
     "text": [
      "('Khushi', 20, 'F', 12, 'A')\n",
      "('Anamika', 19, 'F', 12, 'D')\n",
      "('Nakul', 20, 'M', 12, 'B')\n"
     ]
    }
   ],
   "source": [
    "class Details:\n",
    "    def __init__(self, Name, Age, Gender, Class, Section):\n",
    "        self.Name = Name\n",
    "        self.Age = Age\n",
    "        self.Gender=Gender\n",
    "        self.Class = Class\n",
    "        self.Section = Section\n",
    "        \n",
    "    def display(self):\n",
    "        return self.Name, self.Age, self.Gender, self.Class, self.Section \n",
    "    \n",
    "    \n",
    "A = Details(\"Khushi\", 20,\"F\",12,\"A\")\n",
    "B = Details(\"Anamika\", 19,\"F\",12,\"D\")\n",
    "C = Details(\"Nakul\", 20,\"M\",12,\"B\")\n",
    "\n",
    "print(A.display())\n",
    "print(B.display())\n",
    "print(C.display())"
   ]
  },
  {
   "cell_type": "code",
   "execution_count": 3,
   "id": "77c7f21d",
   "metadata": {},
   "outputs": [
    {
     "name": "stdout",
     "output_type": "stream",
     "text": [
      "Area of a Rectangle: 6\n"
     ]
    }
   ],
   "source": [
    "class Rectangle:\n",
    "    def __init__(self, length, breath):\n",
    "        self.length = length\n",
    "        self.breath = breath\n",
    "\n",
    "    def area(self):\n",
    "        return self.length * self.breath\n",
    "rect = Rectangle(length=2, breath=3)\n",
    "print(f\"Area of a Rectangle: {rect.area()}\")"
   ]
  },
  {
   "cell_type": "code",
   "execution_count": 11,
   "id": "dd101ccf",
   "metadata": {},
   "outputs": [
    {
     "name": "stdout",
     "output_type": "stream",
     "text": [
      "Name: Aliya\n",
      "Total Marks: 427\n",
      "Average Marks: 85.4\n",
      "Percentage: 85.39999999999999\n"
     ]
    }
   ],
   "source": [
    "# Create a class named student that initialize name and grades, \n",
    "#calculate and print total marks obtained, avg. marks and percentager obtained by student.\n",
    "class Student:\n",
    "    def __init__(self, name, M1, M2, M3, M4, M5):\n",
    "        self.name = name\n",
    "        self.M1 = M1\n",
    "        self.M2 = M2\n",
    "        self.M3 = M3\n",
    "        self.M4 = M4\n",
    "        self.M5 = M5\n",
    "\n",
    "    def total_marks(self):\n",
    "        return self.M1 + self.M2 + self.M3 + self.M4 + self.M5\n",
    "    \n",
    "    def avg_marks(self):\n",
    "        return self.total_marks() / 5 \n",
    "    \n",
    "    def percentage(self):\n",
    "        total_possible_marks = 100 * 5  \n",
    "        return (self.total_marks() / total_possible_marks) * 100\n",
    "    \n",
    "    def result(self):\n",
    "        print(f\"Name: {self.name}\")\n",
    "        print(f\"Total Marks: {self.total_marks()}\")\n",
    "        print(f\"Average Marks: {self.avg_marks()}\")\n",
    "        print(f\"Percentage: {self.percentage()} \")\n",
    "\n",
    "student1 = Student(\"Aliya\", 63, 92, 96, 81, 95)\n",
    "student1.result()"
   ]
  },
  {
   "cell_type": "code",
   "execution_count": 1,
   "id": "4b80d8bc",
   "metadata": {},
   "outputs": [],
   "source": [
    "import numpy as np"
   ]
  },
  {
   "cell_type": "code",
   "execution_count": 2,
   "id": "dd6f90ba",
   "metadata": {},
   "outputs": [],
   "source": [
    "#step function(activation function)\n",
    "def step_function(x):\n",
    "    return 1 if x >=0.5 else 0 "
   ]
  },
  {
   "cell_type": "code",
   "execution_count": 3,
   "id": "6fb32ce9",
   "metadata": {},
   "outputs": [
    {
     "name": "stdout",
     "output_type": "stream",
     "text": [
      "enter a number between 0 and 1: 0.5\n",
      "perceptron classification:1\n"
     ]
    }
   ],
   "source": [
    "#step function(activation function)\n",
    "def step_function(x):\n",
    "    return 1 if x >=0.5 else 0 \n",
    "# perceptron class\n",
    "class perceptron:\n",
    "    def __init__(self,learning_rate=0.1,epochs=10):\n",
    "        #initialize weight and bias\n",
    "        self.weight=np.random.rand()#single weight for 1D output\n",
    "        self.bias=np.random.rand()#initialize bias randomly\n",
    "        self.learning_rate=learning_rate\n",
    "        self.epochs=epochs\n",
    "        #predict output for a given input\n",
    "    def predict(self,x):\n",
    "        linear_output=x*self.weight + self.bias\n",
    "        return step_function(linear_output)\\\n",
    "        #train the perceptron\n",
    "    def train(self,X,y):\n",
    "        for epoch in range(self.epochs):\n",
    "            for i in range(len(X)):\n",
    "                prediction = self.predict(X[i])\n",
    "                error=y[i]-prediction\n",
    "                #update weight and bias\n",
    "                self.weight +=self.learning_rate*error*X[i]\n",
    "                self.bias += self.learning_rate*error\n",
    "#training data(classification of number <0.5 as 0, >=0.5 as 1)\n",
    "X=np.array([0.1,0.3,0.7,0.9])\n",
    "y=np.array([0,0,1,1])\n",
    "perceptron = perceptron()\n",
    "perceptron.train(X,y)\n",
    "def user_input_classification():\n",
    "    user_input=float(input(\"enter a number between 0 and 1: \"))\n",
    "    if 0 <= user_input <= 1:\n",
    "        prediction = perceptron.predict(user_input)\n",
    "        print(f\"perceptron classification:{prediction}\")\n",
    "    else:\n",
    "        print(\"please enter a number between 0 and 1\")\n",
    "user_input_classification()"
   ]
  },
  {
   "cell_type": "code",
   "execution_count": null,
   "id": "6deb2d49",
   "metadata": {},
   "outputs": [],
   "source": []
  }
 ],
 "metadata": {
  "kernelspec": {
   "display_name": "Python 3 (ipykernel)",
   "language": "python",
   "name": "python3"
  },
  "language_info": {
   "codemirror_mode": {
    "name": "ipython",
    "version": 3
   },
   "file_extension": ".py",
   "mimetype": "text/x-python",
   "name": "python",
   "nbconvert_exporter": "python",
   "pygments_lexer": "ipython3",
   "version": "3.11.5"
  }
 },
 "nbformat": 4,
 "nbformat_minor": 5
}
